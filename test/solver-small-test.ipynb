{
 "cells": [
  {
   "cell_type": "code",
   "execution_count": 1,
   "metadata": {
    "collapsed": true
   },
   "outputs": [],
   "source": [
    "from functools import reduce\n",
    "\t\n",
    "# The main solver function\n",
    "def Solver(myItems, myCapacity):\n",
    "\n",
    "    dp = {myCapacity: (0, (), 0)}\n",
    "    getKeys = dp.keys\n",
    "\t\n",
    "    for i in range(len(myItems)):\n",
    "        itemID, itemValue, itemVolume, itemWeight = myItems[i]\n",
    "        for oldVolume in sorted(getKeys()):\n",
    "\n",
    "            newVolume = oldVolume - itemVolume\n",
    "\t\t\t\n",
    "            if newVolume >= 0:\n",
    "                myValue, ListOfItems, myWeight = dp[oldVolume]\n",
    "                node = (myValue + itemValue, ListOfItems + (itemID,), myWeight + itemWeight)\n",
    "                if newVolume not in dp:\n",
    "                    dp[newVolume] = node\n",
    "                else:\n",
    "                    currentValue, loi, currentWeight = dp[newVolume]\n",
    "                    if currentValue < node[0] or (currentValue == node[0] and node[-1] < currentWeight):\n",
    "                        dp[newVolume] = node\n",
    "    return max(dp.values())\n",
    "\n",
    "# Generate the product of all elements within a given list\n",
    "def List_Multiply(myList):\n",
    "    return reduce(lambda x, y: x * y, myList)\n",
    "\t\n",
    "toteDims = [30, 35, 45]  \n",
    "totalVolume = List_Multiply(toteDims)\n",
    "productsList = []  \n",
    "\n",
    "with open('100set.csv', 'r') as f:\n",
    "    for line in f:\n",
    "        data = [int(e) for e in line.strip().split(',')]\n",
    "        item_dims = [dim for dim, max_dim in zip(sorted(data[2:5]), toteDims) if dim <= max_dim]\n",
    "        if len(item_dims) == 3:\n",
    "            productsList.append((data[0], data[1], List_Multiply(data[2:5]), data[5]))"
   ]
  },
  {
   "cell_type": "code",
   "execution_count": 2,
   "metadata": {
    "collapsed": false
   },
   "outputs": [
    {
     "name": "stdout",
     "output_type": "stream",
     "text": [
      "(12335, (26, 40, 62, 64, 84, 111, 121, 129, 152), 13690)\n"
     ]
    }
   ],
   "source": [
    "print(Solver(productsList, totalVolume))"
   ]
  },
  {
   "cell_type": "code",
   "execution_count": null,
   "metadata": {
    "collapsed": true
   },
   "outputs": [],
   "source": []
  }
 ],
 "metadata": {
  "kernelspec": {
   "display_name": "Python 3",
   "language": "python",
   "name": "python3"
  },
  "language_info": {
   "codemirror_mode": {
    "name": "ipython",
    "version": 3
   },
   "file_extension": ".py",
   "mimetype": "text/x-python",
   "name": "python",
   "nbconvert_exporter": "python",
   "pygments_lexer": "ipython3",
   "version": "3.6.0"
  }
 },
 "nbformat": 4,
 "nbformat_minor": 2
}
