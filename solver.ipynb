{
 "cells": [
  {
   "cell_type": "code",
   "execution_count": 1,
   "metadata": {
    "collapsed": true
   },
   "outputs": [],
   "source": [
    "from functools import reduce\n",
    "\t\n",
    "# The main solver function\n",
    "def Solver(myItems, myCapacity):\n",
    "\n",
    "    dp = {myCapacity: (0, (), 0)}\n",
    "    getKeys = dp.keys\n",
    "\t\n",
    "    for i in range(len(myItems)):\n",
    "        itemID, itemValue, itemVolume, itemWeight = myItems[i]\n",
    "        for oldVolume in sorted(getKeys()):\n",
    "\n",
    "            newVolume = oldVolume - itemVolume\n",
    "\t\t\t\n",
    "            if newVolume >= 0:\n",
    "                myValue, ListOfItems, myWeight = dp[oldVolume]\n",
    "                node = (myValue + itemValue, ListOfItems + (itemID,), myWeight + itemWeight)\n",
    "                if newVolume not in dp:\n",
    "                    dp[newVolume] = node\n",
    "                else:\n",
    "                    currentValue, loi, currentWeight = dp[newVolume]\n",
    "                    if currentValue < node[0] or (currentValue == node[0] and node[-1] < currentWeight):\n",
    "                        dp[newVolume] = node\n",
    "\t\t\t\t\t\t\n",
    "    return max(dp.values())\n",
    "\n",
    "# Generate the product of all elements within a given list\n",
    "def List_Multiply(myList):\n",
    "    return reduce(lambda x, y: x * y, myList)\n",
    "\t\n",
    "toteDims = [30, 35, 45]  \n",
    "totalVolume = List_Multiply(toteDims)\n",
    "productsList = []  \n",
    "\n",
    "with open(\"products.csv\", 'r') as myFile:\n",
    "    for myLine in myFile:\n",
    "        myData = [int(x) for x in myLine.strip().split(',')]\n",
    "        itemDims = [myDim for myDim, maxDim in zip(sorted(myData[2:5]), toteDims) if myDim <= maxDim]\n",
    "        if len(itemDims) == 3:\n",
    "            productsList.append((myData[0], myData[1], List_Multiply(myData[2:5]), myData[5]))"
   ]
  },
  {
   "cell_type": "code",
   "execution_count": 2,
   "metadata": {
    "collapsed": false
   },
   "outputs": [
    {
     "name": "stdout",
     "output_type": "stream",
     "text": [
      "(41298, (1370, 4887, 5084, 6532, 8699, 9972, 10496, 10981, 12856, 12979, 14301, 14448, 17788, 17896, 26950, 27376, 31288, 33638, 34414, 35280, 36175, 36769, 39987), 32077)\n"
     ]
    }
   ],
   "source": [
    "print(Solver(productsList, totalVolume))"
   ]
  },
  {
   "cell_type": "code",
   "execution_count": null,
   "metadata": {
    "collapsed": true
   },
   "outputs": [],
   "source": []
  }
 ],
 "metadata": {
  "kernelspec": {
   "display_name": "Python 3",
   "language": "python",
   "name": "python3"
  },
  "language_info": {
   "codemirror_mode": {
    "name": "ipython",
    "version": 3
   },
   "file_extension": ".py",
   "mimetype": "text/x-python",
   "name": "python",
   "nbconvert_exporter": "python",
   "pygments_lexer": "ipython3",
   "version": "3.6.0"
  }
 },
 "nbformat": 4,
 "nbformat_minor": 2
}
